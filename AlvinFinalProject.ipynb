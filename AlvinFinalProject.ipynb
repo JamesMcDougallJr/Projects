{
 "cells": [
  {
   "cell_type": "markdown",
   "metadata": {},
   "source": [
    "# COGS 108 - Final Project"
   ]
  },
  {
   "cell_type": "markdown",
   "metadata": {},
   "source": [
    "## Important\n",
    "\n",
    "- ONE, and only one, member of your group should upload this notebook to TritonED. \n",
    "- Each member of the group will receive the same grade on this assignment. \n",
    "- Keep the file name the same: submit the file 'FinalProject.ipynb'.\n",
    "- Only upload the .ipynb file to TED, do not upload any associted data. Make sure that for cells in which you want graders to see output that these cells have been executed."
   ]
  },
  {
   "cell_type": "markdown",
   "metadata": {},
   "source": [
    "## Group Members: Fill in the Student IDs of each group member here\n",
    "\n",
    "Replace the lines below to list each persons full student ID, ucsd email and full name.\n",
    "\n",
    "-  A14947178 - jmcdouga@ucsd.edu - James Ian McDougall Jr.\n",
    "- \n",
    "- \n",
    "- \n",
    "\n"
   ]
  },
  {
   "cell_type": "markdown",
   "metadata": {},
   "source": [
    "# Part 0 - Importing the required packages"
   ]
  },
  {
   "cell_type": "code",
   "execution_count": 92,
   "metadata": {},
   "outputs": [],
   "source": [
    "import pandas as pd # for use of dataframes\n",
    "import numpy as np\n",
    "import matplotlib.pyplot as plt # for plotting graphs \n",
    "import seaborn as sns\n",
    "import statsmodels.api as sm # for fitting an OLS model\n",
    "import scipy.stats as stats # for access to tests for normal distribution\n",
    "import statsmodels.formula.api as smf\n",
    "from scipy.stats import ttest_ind, normaltest # for access to t tests, normal test\n",
    "%matplotlib inline"
   ]
  },
  {
   "cell_type": "markdown",
   "metadata": {},
   "source": [
    "# Part 1 - Introduction and Background"
   ]
  },
  {
   "cell_type": "markdown",
   "metadata": {},
   "source": [
    "Chicago, otherwise known as 'The Windy City', has some of the worst crime rates in America. Some of this has to do with statitical flukes; it is the third largest city in the U.S., which makes any type of criminal activity more easily reportable. However, most people wouldn't argue over the real danger you are in when you go to some of the worse off areas of Chicago.\n",
    "\n",
    "We wanted to analyze the crime rates in Chicago in some way in order to assist people in the city in understanding what problems exist and where they are happening. In the end, we decided to ask the following question:\n",
    "\n",
    "\"Does the district a crime is committed in or type of crime more closely predict whether an arrest was made\".\n",
    "\n",
    "The answers derived from the answer to this question could spawn further analysis, e.g.:\n",
    "\n",
    "1. If a particular crime is more likely to result in an arrest in one district over the other, why is that? Is it the police in that district? Is it the citizens? Or is it the geography?\n",
    "\n",
    "2. If the type of crime affects whether an arrest is made, does that mean that we are more afraid of certain crimes over others? Is this a valid fear? "
   ]
  },
  {
   "cell_type": "markdown",
   "metadata": {},
   "source": [
    "# Part 2 - Data Description"
   ]
  },
  {
   "cell_type": "markdown",
   "metadata": {},
   "source": [
    "We are using this dataset: https://www.kaggle.com/chicago/chicago-crime\n",
    "\n",
    "This is chicago crime data from 2001 to present. It represents all reported instances of crime, and whether or not an arrest has been made since the data was last released. Each row represents a crime, except for multiple homicides, for which there is a different row for each victim of the crime. \n",
    "\n",
    "Here are some basic stats:"
   ]
  },
  {
   "cell_type": "code",
   "execution_count": 93,
   "metadata": {},
   "outputs": [],
   "source": [
    "crime =pd.read_csv('~/data/chicago_crime_data.csv')"
   ]
  },
  {
   "cell_type": "code",
   "execution_count": 94,
   "metadata": {},
   "outputs": [
    {
     "data": {
      "text/html": [
       "<div>\n",
       "<style scoped>\n",
       "    .dataframe tbody tr th:only-of-type {\n",
       "        vertical-align: middle;\n",
       "    }\n",
       "\n",
       "    .dataframe tbody tr th {\n",
       "        vertical-align: top;\n",
       "    }\n",
       "\n",
       "    .dataframe thead th {\n",
       "        text-align: right;\n",
       "    }\n",
       "</style>\n",
       "<table border=\"1\" class=\"dataframe\">\n",
       "  <thead>\n",
       "    <tr style=\"text-align: right;\">\n",
       "      <th></th>\n",
       "      <th>ID</th>\n",
       "      <th>Case Number</th>\n",
       "      <th>Date</th>\n",
       "      <th>Block</th>\n",
       "      <th>IUCR</th>\n",
       "      <th>Primary Type</th>\n",
       "      <th>Description</th>\n",
       "      <th>Location Description</th>\n",
       "      <th>Arrest</th>\n",
       "      <th>Domestic</th>\n",
       "      <th>...</th>\n",
       "      <th>Ward</th>\n",
       "      <th>Community Area</th>\n",
       "      <th>FBI Code</th>\n",
       "      <th>X Coordinate</th>\n",
       "      <th>Y Coordinate</th>\n",
       "      <th>Year</th>\n",
       "      <th>Updated On</th>\n",
       "      <th>Latitude</th>\n",
       "      <th>Longitude</th>\n",
       "      <th>Location</th>\n",
       "    </tr>\n",
       "  </thead>\n",
       "  <tbody>\n",
       "    <tr>\n",
       "      <th>0</th>\n",
       "      <td>10000092</td>\n",
       "      <td>HY189866</td>\n",
       "      <td>03/18/2015 07:44:00 PM</td>\n",
       "      <td>047XX W OHIO ST</td>\n",
       "      <td>041A</td>\n",
       "      <td>BATTERY</td>\n",
       "      <td>AGGRAVATED: HANDGUN</td>\n",
       "      <td>STREET</td>\n",
       "      <td>False</td>\n",
       "      <td>False</td>\n",
       "      <td>...</td>\n",
       "      <td>28.0</td>\n",
       "      <td>25.0</td>\n",
       "      <td>04B</td>\n",
       "      <td>1144606.0</td>\n",
       "      <td>1903566.0</td>\n",
       "      <td>2015</td>\n",
       "      <td>02/10/2018 03:50:01 PM</td>\n",
       "      <td>41.891399</td>\n",
       "      <td>-87.744385</td>\n",
       "      <td>(41.891398861, -87.744384567)</td>\n",
       "    </tr>\n",
       "    <tr>\n",
       "      <th>1</th>\n",
       "      <td>10000094</td>\n",
       "      <td>HY190059</td>\n",
       "      <td>03/18/2015 11:00:00 PM</td>\n",
       "      <td>066XX S MARSHFIELD AVE</td>\n",
       "      <td>4625</td>\n",
       "      <td>OTHER OFFENSE</td>\n",
       "      <td>PAROLE VIOLATION</td>\n",
       "      <td>STREET</td>\n",
       "      <td>True</td>\n",
       "      <td>False</td>\n",
       "      <td>...</td>\n",
       "      <td>15.0</td>\n",
       "      <td>67.0</td>\n",
       "      <td>26</td>\n",
       "      <td>1166468.0</td>\n",
       "      <td>1860715.0</td>\n",
       "      <td>2015</td>\n",
       "      <td>02/10/2018 03:50:01 PM</td>\n",
       "      <td>41.773372</td>\n",
       "      <td>-87.665319</td>\n",
       "      <td>(41.773371528, -87.665319468)</td>\n",
       "    </tr>\n",
       "    <tr>\n",
       "      <th>2</th>\n",
       "      <td>10000095</td>\n",
       "      <td>HY190052</td>\n",
       "      <td>03/18/2015 10:45:00 PM</td>\n",
       "      <td>044XX S LAKE PARK AVE</td>\n",
       "      <td>0486</td>\n",
       "      <td>BATTERY</td>\n",
       "      <td>DOMESTIC BATTERY SIMPLE</td>\n",
       "      <td>APARTMENT</td>\n",
       "      <td>False</td>\n",
       "      <td>True</td>\n",
       "      <td>...</td>\n",
       "      <td>4.0</td>\n",
       "      <td>39.0</td>\n",
       "      <td>08B</td>\n",
       "      <td>1185075.0</td>\n",
       "      <td>1875622.0</td>\n",
       "      <td>2015</td>\n",
       "      <td>02/10/2018 03:50:01 PM</td>\n",
       "      <td>41.813861</td>\n",
       "      <td>-87.596643</td>\n",
       "      <td>(41.81386068, -87.596642837)</td>\n",
       "    </tr>\n",
       "    <tr>\n",
       "      <th>3</th>\n",
       "      <td>10000096</td>\n",
       "      <td>HY190054</td>\n",
       "      <td>03/18/2015 10:30:00 PM</td>\n",
       "      <td>051XX S MICHIGAN AVE</td>\n",
       "      <td>0460</td>\n",
       "      <td>BATTERY</td>\n",
       "      <td>SIMPLE</td>\n",
       "      <td>APARTMENT</td>\n",
       "      <td>False</td>\n",
       "      <td>False</td>\n",
       "      <td>...</td>\n",
       "      <td>3.0</td>\n",
       "      <td>40.0</td>\n",
       "      <td>08B</td>\n",
       "      <td>1178033.0</td>\n",
       "      <td>1870804.0</td>\n",
       "      <td>2015</td>\n",
       "      <td>02/10/2018 03:50:01 PM</td>\n",
       "      <td>41.800802</td>\n",
       "      <td>-87.622619</td>\n",
       "      <td>(41.800802415, -87.622619343)</td>\n",
       "    </tr>\n",
       "    <tr>\n",
       "      <th>4</th>\n",
       "      <td>10000097</td>\n",
       "      <td>HY189976</td>\n",
       "      <td>03/18/2015 09:00:00 PM</td>\n",
       "      <td>047XX W ADAMS ST</td>\n",
       "      <td>031A</td>\n",
       "      <td>ROBBERY</td>\n",
       "      <td>ARMED: HANDGUN</td>\n",
       "      <td>SIDEWALK</td>\n",
       "      <td>False</td>\n",
       "      <td>False</td>\n",
       "      <td>...</td>\n",
       "      <td>28.0</td>\n",
       "      <td>25.0</td>\n",
       "      <td>03</td>\n",
       "      <td>1144920.0</td>\n",
       "      <td>1898709.0</td>\n",
       "      <td>2015</td>\n",
       "      <td>02/10/2018 03:50:01 PM</td>\n",
       "      <td>41.878065</td>\n",
       "      <td>-87.743354</td>\n",
       "      <td>(41.878064761, -87.743354013)</td>\n",
       "    </tr>\n",
       "  </tbody>\n",
       "</table>\n",
       "<p>5 rows × 22 columns</p>\n",
       "</div>"
      ],
      "text/plain": [
       "         ID Case Number                    Date                   Block  IUCR  \\\n",
       "0  10000092    HY189866  03/18/2015 07:44:00 PM         047XX W OHIO ST  041A   \n",
       "1  10000094    HY190059  03/18/2015 11:00:00 PM  066XX S MARSHFIELD AVE  4625   \n",
       "2  10000095    HY190052  03/18/2015 10:45:00 PM   044XX S LAKE PARK AVE  0486   \n",
       "3  10000096    HY190054  03/18/2015 10:30:00 PM    051XX S MICHIGAN AVE  0460   \n",
       "4  10000097    HY189976  03/18/2015 09:00:00 PM        047XX W ADAMS ST  031A   \n",
       "\n",
       "    Primary Type              Description Location Description  Arrest  \\\n",
       "0        BATTERY      AGGRAVATED: HANDGUN               STREET   False   \n",
       "1  OTHER OFFENSE         PAROLE VIOLATION               STREET    True   \n",
       "2        BATTERY  DOMESTIC BATTERY SIMPLE            APARTMENT   False   \n",
       "3        BATTERY                   SIMPLE            APARTMENT   False   \n",
       "4        ROBBERY           ARMED: HANDGUN             SIDEWALK   False   \n",
       "\n",
       "   Domestic              ...                Ward  Community Area  FBI Code  \\\n",
       "0     False              ...                28.0            25.0       04B   \n",
       "1     False              ...                15.0            67.0        26   \n",
       "2      True              ...                 4.0            39.0       08B   \n",
       "3     False              ...                 3.0            40.0       08B   \n",
       "4     False              ...                28.0            25.0        03   \n",
       "\n",
       "   X Coordinate Y Coordinate  Year              Updated On   Latitude  \\\n",
       "0     1144606.0    1903566.0  2015  02/10/2018 03:50:01 PM  41.891399   \n",
       "1     1166468.0    1860715.0  2015  02/10/2018 03:50:01 PM  41.773372   \n",
       "2     1185075.0    1875622.0  2015  02/10/2018 03:50:01 PM  41.813861   \n",
       "3     1178033.0    1870804.0  2015  02/10/2018 03:50:01 PM  41.800802   \n",
       "4     1144920.0    1898709.0  2015  02/10/2018 03:50:01 PM  41.878065   \n",
       "\n",
       "   Longitude                       Location  \n",
       "0 -87.744385  (41.891398861, -87.744384567)  \n",
       "1 -87.665319  (41.773371528, -87.665319468)  \n",
       "2 -87.596643   (41.81386068, -87.596642837)  \n",
       "3 -87.622619  (41.800802415, -87.622619343)  \n",
       "4 -87.743354  (41.878064761, -87.743354013)  \n",
       "\n",
       "[5 rows x 22 columns]"
      ]
     },
     "execution_count": 94,
     "metadata": {},
     "output_type": "execute_result"
    }
   ],
   "source": [
    "crime.head()"
   ]
  },
  {
   "cell_type": "code",
   "execution_count": 95,
   "metadata": {},
   "outputs": [
    {
     "data": {
      "text/html": [
       "<div>\n",
       "<style scoped>\n",
       "    .dataframe tbody tr th:only-of-type {\n",
       "        vertical-align: middle;\n",
       "    }\n",
       "\n",
       "    .dataframe tbody tr th {\n",
       "        vertical-align: top;\n",
       "    }\n",
       "\n",
       "    .dataframe thead th {\n",
       "        text-align: right;\n",
       "    }\n",
       "</style>\n",
       "<table border=\"1\" class=\"dataframe\">\n",
       "  <thead>\n",
       "    <tr style=\"text-align: right;\">\n",
       "      <th></th>\n",
       "      <th>ID</th>\n",
       "      <th>Beat</th>\n",
       "      <th>District</th>\n",
       "      <th>Ward</th>\n",
       "      <th>Community Area</th>\n",
       "      <th>X Coordinate</th>\n",
       "      <th>Y Coordinate</th>\n",
       "      <th>Year</th>\n",
       "      <th>Latitude</th>\n",
       "      <th>Longitude</th>\n",
       "    </tr>\n",
       "  </thead>\n",
       "  <tbody>\n",
       "    <tr>\n",
       "      <th>count</th>\n",
       "      <td>6.802359e+06</td>\n",
       "      <td>6.802359e+06</td>\n",
       "      <td>6.802312e+06</td>\n",
       "      <td>6.187505e+06</td>\n",
       "      <td>6.188828e+06</td>\n",
       "      <td>6.740394e+06</td>\n",
       "      <td>6.740394e+06</td>\n",
       "      <td>6.802359e+06</td>\n",
       "      <td>6.740394e+06</td>\n",
       "      <td>6.740394e+06</td>\n",
       "    </tr>\n",
       "    <tr>\n",
       "      <th>mean</th>\n",
       "      <td>6.267879e+06</td>\n",
       "      <td>1.191551e+03</td>\n",
       "      <td>1.130251e+01</td>\n",
       "      <td>2.268313e+01</td>\n",
       "      <td>3.758620e+01</td>\n",
       "      <td>1.164517e+06</td>\n",
       "      <td>1.885721e+06</td>\n",
       "      <td>2.008401e+03</td>\n",
       "      <td>4.184201e+01</td>\n",
       "      <td>-8.767180e+01</td>\n",
       "    </tr>\n",
       "    <tr>\n",
       "      <th>std</th>\n",
       "      <td>3.063983e+06</td>\n",
       "      <td>7.033569e+02</td>\n",
       "      <td>6.945669e+00</td>\n",
       "      <td>1.383246e+01</td>\n",
       "      <td>2.154045e+01</td>\n",
       "      <td>1.716683e+04</td>\n",
       "      <td>3.270468e+04</td>\n",
       "      <td>5.067564e+00</td>\n",
       "      <td>8.999481e-02</td>\n",
       "      <td>6.212430e-02</td>\n",
       "    </tr>\n",
       "    <tr>\n",
       "      <th>min</th>\n",
       "      <td>6.340000e+02</td>\n",
       "      <td>1.110000e+02</td>\n",
       "      <td>1.000000e+00</td>\n",
       "      <td>1.000000e+00</td>\n",
       "      <td>0.000000e+00</td>\n",
       "      <td>0.000000e+00</td>\n",
       "      <td>0.000000e+00</td>\n",
       "      <td>2.001000e+03</td>\n",
       "      <td>3.661945e+01</td>\n",
       "      <td>-9.168657e+01</td>\n",
       "    </tr>\n",
       "    <tr>\n",
       "      <th>25%</th>\n",
       "      <td>3.443594e+06</td>\n",
       "      <td>6.220000e+02</td>\n",
       "      <td>6.000000e+00</td>\n",
       "      <td>1.000000e+01</td>\n",
       "      <td>2.300000e+01</td>\n",
       "      <td>1.152934e+06</td>\n",
       "      <td>1.859189e+06</td>\n",
       "      <td>2.004000e+03</td>\n",
       "      <td>4.176892e+01</td>\n",
       "      <td>-8.771387e+01</td>\n",
       "    </tr>\n",
       "    <tr>\n",
       "      <th>50%</th>\n",
       "      <td>6.254311e+06</td>\n",
       "      <td>1.111000e+03</td>\n",
       "      <td>1.000000e+01</td>\n",
       "      <td>2.200000e+01</td>\n",
       "      <td>3.200000e+01</td>\n",
       "      <td>1.165991e+06</td>\n",
       "      <td>1.890586e+06</td>\n",
       "      <td>2.008000e+03</td>\n",
       "      <td>4.185537e+01</td>\n",
       "      <td>-8.766618e+01</td>\n",
       "    </tr>\n",
       "    <tr>\n",
       "      <th>75%</th>\n",
       "      <td>8.909085e+06</td>\n",
       "      <td>1.731000e+03</td>\n",
       "      <td>1.700000e+01</td>\n",
       "      <td>3.400000e+01</td>\n",
       "      <td>5.800000e+01</td>\n",
       "      <td>1.176352e+06</td>\n",
       "      <td>1.909313e+06</td>\n",
       "      <td>2.012000e+03</td>\n",
       "      <td>4.190686e+01</td>\n",
       "      <td>-8.762836e+01</td>\n",
       "    </tr>\n",
       "    <tr>\n",
       "      <th>max</th>\n",
       "      <td>1.158934e+07</td>\n",
       "      <td>2.535000e+03</td>\n",
       "      <td>3.100000e+01</td>\n",
       "      <td>5.000000e+01</td>\n",
       "      <td>7.700000e+01</td>\n",
       "      <td>1.205119e+06</td>\n",
       "      <td>1.951622e+06</td>\n",
       "      <td>2.019000e+03</td>\n",
       "      <td>4.202291e+01</td>\n",
       "      <td>-8.752453e+01</td>\n",
       "    </tr>\n",
       "  </tbody>\n",
       "</table>\n",
       "</div>"
      ],
      "text/plain": [
       "                 ID          Beat      District          Ward  Community Area  \\\n",
       "count  6.802359e+06  6.802359e+06  6.802312e+06  6.187505e+06    6.188828e+06   \n",
       "mean   6.267879e+06  1.191551e+03  1.130251e+01  2.268313e+01    3.758620e+01   \n",
       "std    3.063983e+06  7.033569e+02  6.945669e+00  1.383246e+01    2.154045e+01   \n",
       "min    6.340000e+02  1.110000e+02  1.000000e+00  1.000000e+00    0.000000e+00   \n",
       "25%    3.443594e+06  6.220000e+02  6.000000e+00  1.000000e+01    2.300000e+01   \n",
       "50%    6.254311e+06  1.111000e+03  1.000000e+01  2.200000e+01    3.200000e+01   \n",
       "75%    8.909085e+06  1.731000e+03  1.700000e+01  3.400000e+01    5.800000e+01   \n",
       "max    1.158934e+07  2.535000e+03  3.100000e+01  5.000000e+01    7.700000e+01   \n",
       "\n",
       "       X Coordinate  Y Coordinate          Year      Latitude     Longitude  \n",
       "count  6.740394e+06  6.740394e+06  6.802359e+06  6.740394e+06  6.740394e+06  \n",
       "mean   1.164517e+06  1.885721e+06  2.008401e+03  4.184201e+01 -8.767180e+01  \n",
       "std    1.716683e+04  3.270468e+04  5.067564e+00  8.999481e-02  6.212430e-02  \n",
       "min    0.000000e+00  0.000000e+00  2.001000e+03  3.661945e+01 -9.168657e+01  \n",
       "25%    1.152934e+06  1.859189e+06  2.004000e+03  4.176892e+01 -8.771387e+01  \n",
       "50%    1.165991e+06  1.890586e+06  2.008000e+03  4.185537e+01 -8.766618e+01  \n",
       "75%    1.176352e+06  1.909313e+06  2.012000e+03  4.190686e+01 -8.762836e+01  \n",
       "max    1.205119e+06  1.951622e+06  2.019000e+03  4.202291e+01 -8.752453e+01  "
      ]
     },
     "execution_count": 95,
     "metadata": {},
     "output_type": "execute_result"
    }
   ],
   "source": [
    "crime.describe()"
   ]
  },
  {
   "cell_type": "code",
   "execution_count": 96,
   "metadata": {},
   "outputs": [
    {
     "name": "stdout",
     "output_type": "stream",
     "text": [
      "Total Number of Crimes:\t\t\t6802359\n",
      "Total number of Unique Districts:\t25\n"
     ]
    }
   ],
   "source": [
    "print('Total Number of Crimes:\\t\\t\\t{0}'.format(len(crime)))\n",
    "print('Total number of Unique Districts:\\t{0}'.format(len(crime['District'].unique())))"
   ]
  },
  {
   "cell_type": "markdown",
   "metadata": {},
   "source": [
    "# Part 3 - Data Cleaning and Preprocessing"
   ]
  },
  {
   "cell_type": "markdown",
   "metadata": {},
   "source": [
    "This data is fairly clean, because it is maintained by the Chicago Police Department, which has high organizational standards. There aren't very many invalid crimes or unknowns.\n",
    "\n",
    "To clean the data, we will do the following (not necessarily in order):\n",
    "\n",
    "1. Drop useless columns and columns that invade privacy\n",
    "2. Standardize the location description\n",
    "3. Standardize the crime type to get rid of the uppercase, standardize the non-criminal type\n",
    "4. Remove NaN values"
   ]
  },
  {
   "cell_type": "code",
   "execution_count": 97,
   "metadata": {},
   "outputs": [],
   "source": [
    "# first, drop the location description column and community area column because of privacy concerns \n",
    "crime = crime.drop(['Location Description', 'Block', 'Community Area','Latitude', 'Beat', 'Ward','Longitude','X Coordinate','Y Coordinate','Location','Ward'],axis=1)"
   ]
  },
  {
   "cell_type": "code",
   "execution_count": 98,
   "metadata": {},
   "outputs": [
    {
     "data": {
      "text/html": [
       "<div>\n",
       "<style scoped>\n",
       "    .dataframe tbody tr th:only-of-type {\n",
       "        vertical-align: middle;\n",
       "    }\n",
       "\n",
       "    .dataframe tbody tr th {\n",
       "        vertical-align: top;\n",
       "    }\n",
       "\n",
       "    .dataframe thead th {\n",
       "        text-align: right;\n",
       "    }\n",
       "</style>\n",
       "<table border=\"1\" class=\"dataframe\">\n",
       "  <thead>\n",
       "    <tr style=\"text-align: right;\">\n",
       "      <th></th>\n",
       "      <th>ID</th>\n",
       "      <th>Case Number</th>\n",
       "      <th>Date</th>\n",
       "      <th>IUCR</th>\n",
       "      <th>Primary Type</th>\n",
       "      <th>Description</th>\n",
       "      <th>Arrest</th>\n",
       "      <th>Domestic</th>\n",
       "      <th>District</th>\n",
       "      <th>FBI Code</th>\n",
       "      <th>Year</th>\n",
       "      <th>Updated On</th>\n",
       "    </tr>\n",
       "  </thead>\n",
       "  <tbody>\n",
       "    <tr>\n",
       "      <th>0</th>\n",
       "      <td>10000092</td>\n",
       "      <td>HY189866</td>\n",
       "      <td>03/18/2015 07:44:00 PM</td>\n",
       "      <td>041A</td>\n",
       "      <td>BATTERY</td>\n",
       "      <td>AGGRAVATED: HANDGUN</td>\n",
       "      <td>False</td>\n",
       "      <td>False</td>\n",
       "      <td>11.0</td>\n",
       "      <td>04B</td>\n",
       "      <td>2015</td>\n",
       "      <td>02/10/2018 03:50:01 PM</td>\n",
       "    </tr>\n",
       "    <tr>\n",
       "      <th>1</th>\n",
       "      <td>10000094</td>\n",
       "      <td>HY190059</td>\n",
       "      <td>03/18/2015 11:00:00 PM</td>\n",
       "      <td>4625</td>\n",
       "      <td>OTHER OFFENSE</td>\n",
       "      <td>PAROLE VIOLATION</td>\n",
       "      <td>True</td>\n",
       "      <td>False</td>\n",
       "      <td>7.0</td>\n",
       "      <td>26</td>\n",
       "      <td>2015</td>\n",
       "      <td>02/10/2018 03:50:01 PM</td>\n",
       "    </tr>\n",
       "    <tr>\n",
       "      <th>2</th>\n",
       "      <td>10000095</td>\n",
       "      <td>HY190052</td>\n",
       "      <td>03/18/2015 10:45:00 PM</td>\n",
       "      <td>0486</td>\n",
       "      <td>BATTERY</td>\n",
       "      <td>DOMESTIC BATTERY SIMPLE</td>\n",
       "      <td>False</td>\n",
       "      <td>True</td>\n",
       "      <td>2.0</td>\n",
       "      <td>08B</td>\n",
       "      <td>2015</td>\n",
       "      <td>02/10/2018 03:50:01 PM</td>\n",
       "    </tr>\n",
       "    <tr>\n",
       "      <th>3</th>\n",
       "      <td>10000096</td>\n",
       "      <td>HY190054</td>\n",
       "      <td>03/18/2015 10:30:00 PM</td>\n",
       "      <td>0460</td>\n",
       "      <td>BATTERY</td>\n",
       "      <td>SIMPLE</td>\n",
       "      <td>False</td>\n",
       "      <td>False</td>\n",
       "      <td>2.0</td>\n",
       "      <td>08B</td>\n",
       "      <td>2015</td>\n",
       "      <td>02/10/2018 03:50:01 PM</td>\n",
       "    </tr>\n",
       "    <tr>\n",
       "      <th>4</th>\n",
       "      <td>10000097</td>\n",
       "      <td>HY189976</td>\n",
       "      <td>03/18/2015 09:00:00 PM</td>\n",
       "      <td>031A</td>\n",
       "      <td>ROBBERY</td>\n",
       "      <td>ARMED: HANDGUN</td>\n",
       "      <td>False</td>\n",
       "      <td>False</td>\n",
       "      <td>11.0</td>\n",
       "      <td>03</td>\n",
       "      <td>2015</td>\n",
       "      <td>02/10/2018 03:50:01 PM</td>\n",
       "    </tr>\n",
       "  </tbody>\n",
       "</table>\n",
       "</div>"
      ],
      "text/plain": [
       "         ID Case Number                    Date  IUCR   Primary Type  \\\n",
       "0  10000092    HY189866  03/18/2015 07:44:00 PM  041A        BATTERY   \n",
       "1  10000094    HY190059  03/18/2015 11:00:00 PM  4625  OTHER OFFENSE   \n",
       "2  10000095    HY190052  03/18/2015 10:45:00 PM  0486        BATTERY   \n",
       "3  10000096    HY190054  03/18/2015 10:30:00 PM  0460        BATTERY   \n",
       "4  10000097    HY189976  03/18/2015 09:00:00 PM  031A        ROBBERY   \n",
       "\n",
       "               Description  Arrest  Domestic  District FBI Code  Year  \\\n",
       "0      AGGRAVATED: HANDGUN   False     False      11.0      04B  2015   \n",
       "1         PAROLE VIOLATION    True     False       7.0       26  2015   \n",
       "2  DOMESTIC BATTERY SIMPLE   False      True       2.0      08B  2015   \n",
       "3                   SIMPLE   False     False       2.0      08B  2015   \n",
       "4           ARMED: HANDGUN   False     False      11.0       03  2015   \n",
       "\n",
       "               Updated On  \n",
       "0  02/10/2018 03:50:01 PM  \n",
       "1  02/10/2018 03:50:01 PM  \n",
       "2  02/10/2018 03:50:01 PM  \n",
       "3  02/10/2018 03:50:01 PM  \n",
       "4  02/10/2018 03:50:01 PM  "
      ]
     },
     "execution_count": 98,
     "metadata": {},
     "output_type": "execute_result"
    }
   ],
   "source": [
    "crime.head()"
   ]
  },
  {
   "cell_type": "code",
   "execution_count": 99,
   "metadata": {},
   "outputs": [],
   "source": [
    "\"\"\"\n",
    "    Author: James McDougall\n",
    "    Param: string - is the string which is the name of the Primary Type\n",
    "    Returns: a variable of type str which is lower case and represents  a more standardized type\n",
    "\"\"\"\n",
    "def standardize_primary_type(string):\n",
    "    # compile all non-criminal offenses into on label\n",
    "    if string == 'NON-CRIMINAL (SUBJECT SPECIFIED)' or string == 'NON - CRIMINAL' or string == 'NON-CRIMINAL':\n",
    "        return 'non-criminal'\n",
    "    if string == 'OTHER OFFENSE':\n",
    "        return 'other'\n",
    "    # rename crim sexual assault to just sexual assault to make it easier to read\n",
    "    if string == 'CRIM SEXUAL ASSAULT':\n",
    "        return 'sexual assault'\n",
    "    else:\n",
    "        # everything else, make sure to lowercase it so we don't have to use caps lock lol\n",
    "        return string.lower()\n",
    "        "
   ]
  },
  {
   "cell_type": "code",
   "execution_count": 100,
   "metadata": {},
   "outputs": [
    {
     "name": "stdout",
     "output_type": "stream",
     "text": [
      "Number of rows to drop with NaN district: 47\n",
      "Number of row to drop with NaN Primary Type: 0\n"
     ]
    }
   ],
   "source": [
    "to_drop = crime[ crime['District'].isnull()]\n",
    "print('Number of rows to drop with NaN district: ' + str(len(to_drop)))\n",
    "crime = crime.drop(to_drop.index,axis=0)\n",
    "\n",
    "to_drop = crime[crime['Primary Type'].isnull()]\n",
    "print('Number of row to drop with NaN Primary Type: ' + str(len(to_drop)))\n",
    "crime = crime.drop(to_drop.index,axis=0)"
   ]
  },
  {
   "cell_type": "code",
   "execution_count": 101,
   "metadata": {},
   "outputs": [],
   "source": [
    "crime['Type'] = crime['Primary Type'].apply(standardize_primary_type)\n",
    "crime['District'] = crime['District'].astype(str)\n",
    "\n",
    "def arrest_to_int(string):\n",
    "    if string == True:\n",
    "        return 1\n",
    "    elif string == False:\n",
    "        return 0\n",
    "crime['Arrest'] = crime['Arrest'].apply(arrest_to_int)\n"
   ]
  },
  {
   "cell_type": "markdown",
   "metadata": {},
   "source": [
    "Additionally, we must drop all rows that are in district 31 because this district is not on the main chicago police page, so it is either nonexistant or far enough away from the main Chicago city to not be relevant to our analysis."
   ]
  },
  {
   "cell_type": "code",
   "execution_count": 75,
   "metadata": {},
   "outputs": [],
   "source": [
    "crime = crime[crime['District'] != '31']\n",
    "assert '31' not in crime['District'].unique()"
   ]
  },
  {
   "cell_type": "code",
   "execution_count": 102,
   "metadata": {},
   "outputs": [
    {
     "data": {
      "text/html": [
       "<div>\n",
       "<style scoped>\n",
       "    .dataframe tbody tr th:only-of-type {\n",
       "        vertical-align: middle;\n",
       "    }\n",
       "\n",
       "    .dataframe tbody tr th {\n",
       "        vertical-align: top;\n",
       "    }\n",
       "\n",
       "    .dataframe thead th {\n",
       "        text-align: right;\n",
       "    }\n",
       "</style>\n",
       "<table border=\"1\" class=\"dataframe\">\n",
       "  <thead>\n",
       "    <tr style=\"text-align: right;\">\n",
       "      <th></th>\n",
       "      <th>ID</th>\n",
       "      <th>Case Number</th>\n",
       "      <th>Date</th>\n",
       "      <th>IUCR</th>\n",
       "      <th>Primary Type</th>\n",
       "      <th>Description</th>\n",
       "      <th>Arrest</th>\n",
       "      <th>Domestic</th>\n",
       "      <th>District</th>\n",
       "      <th>FBI Code</th>\n",
       "      <th>Year</th>\n",
       "      <th>Updated On</th>\n",
       "      <th>Type</th>\n",
       "    </tr>\n",
       "  </thead>\n",
       "  <tbody>\n",
       "    <tr>\n",
       "      <th>0</th>\n",
       "      <td>10000092</td>\n",
       "      <td>HY189866</td>\n",
       "      <td>03/18/2015 07:44:00 PM</td>\n",
       "      <td>041A</td>\n",
       "      <td>BATTERY</td>\n",
       "      <td>AGGRAVATED: HANDGUN</td>\n",
       "      <td>0</td>\n",
       "      <td>False</td>\n",
       "      <td>11.0</td>\n",
       "      <td>04B</td>\n",
       "      <td>2015</td>\n",
       "      <td>02/10/2018 03:50:01 PM</td>\n",
       "      <td>battery</td>\n",
       "    </tr>\n",
       "    <tr>\n",
       "      <th>1</th>\n",
       "      <td>10000094</td>\n",
       "      <td>HY190059</td>\n",
       "      <td>03/18/2015 11:00:00 PM</td>\n",
       "      <td>4625</td>\n",
       "      <td>OTHER OFFENSE</td>\n",
       "      <td>PAROLE VIOLATION</td>\n",
       "      <td>1</td>\n",
       "      <td>False</td>\n",
       "      <td>7.0</td>\n",
       "      <td>26</td>\n",
       "      <td>2015</td>\n",
       "      <td>02/10/2018 03:50:01 PM</td>\n",
       "      <td>other</td>\n",
       "    </tr>\n",
       "    <tr>\n",
       "      <th>2</th>\n",
       "      <td>10000095</td>\n",
       "      <td>HY190052</td>\n",
       "      <td>03/18/2015 10:45:00 PM</td>\n",
       "      <td>0486</td>\n",
       "      <td>BATTERY</td>\n",
       "      <td>DOMESTIC BATTERY SIMPLE</td>\n",
       "      <td>0</td>\n",
       "      <td>True</td>\n",
       "      <td>2.0</td>\n",
       "      <td>08B</td>\n",
       "      <td>2015</td>\n",
       "      <td>02/10/2018 03:50:01 PM</td>\n",
       "      <td>battery</td>\n",
       "    </tr>\n",
       "    <tr>\n",
       "      <th>3</th>\n",
       "      <td>10000096</td>\n",
       "      <td>HY190054</td>\n",
       "      <td>03/18/2015 10:30:00 PM</td>\n",
       "      <td>0460</td>\n",
       "      <td>BATTERY</td>\n",
       "      <td>SIMPLE</td>\n",
       "      <td>0</td>\n",
       "      <td>False</td>\n",
       "      <td>2.0</td>\n",
       "      <td>08B</td>\n",
       "      <td>2015</td>\n",
       "      <td>02/10/2018 03:50:01 PM</td>\n",
       "      <td>battery</td>\n",
       "    </tr>\n",
       "    <tr>\n",
       "      <th>4</th>\n",
       "      <td>10000097</td>\n",
       "      <td>HY189976</td>\n",
       "      <td>03/18/2015 09:00:00 PM</td>\n",
       "      <td>031A</td>\n",
       "      <td>ROBBERY</td>\n",
       "      <td>ARMED: HANDGUN</td>\n",
       "      <td>0</td>\n",
       "      <td>False</td>\n",
       "      <td>11.0</td>\n",
       "      <td>03</td>\n",
       "      <td>2015</td>\n",
       "      <td>02/10/2018 03:50:01 PM</td>\n",
       "      <td>robbery</td>\n",
       "    </tr>\n",
       "  </tbody>\n",
       "</table>\n",
       "</div>"
      ],
      "text/plain": [
       "         ID Case Number                    Date  IUCR   Primary Type  \\\n",
       "0  10000092    HY189866  03/18/2015 07:44:00 PM  041A        BATTERY   \n",
       "1  10000094    HY190059  03/18/2015 11:00:00 PM  4625  OTHER OFFENSE   \n",
       "2  10000095    HY190052  03/18/2015 10:45:00 PM  0486        BATTERY   \n",
       "3  10000096    HY190054  03/18/2015 10:30:00 PM  0460        BATTERY   \n",
       "4  10000097    HY189976  03/18/2015 09:00:00 PM  031A        ROBBERY   \n",
       "\n",
       "               Description  Arrest  Domestic District FBI Code  Year  \\\n",
       "0      AGGRAVATED: HANDGUN       0     False     11.0      04B  2015   \n",
       "1         PAROLE VIOLATION       1     False      7.0       26  2015   \n",
       "2  DOMESTIC BATTERY SIMPLE       0      True      2.0      08B  2015   \n",
       "3                   SIMPLE       0     False      2.0      08B  2015   \n",
       "4           ARMED: HANDGUN       0     False     11.0       03  2015   \n",
       "\n",
       "               Updated On     Type  \n",
       "0  02/10/2018 03:50:01 PM  battery  \n",
       "1  02/10/2018 03:50:01 PM    other  \n",
       "2  02/10/2018 03:50:01 PM  battery  \n",
       "3  02/10/2018 03:50:01 PM  battery  \n",
       "4  02/10/2018 03:50:01 PM  robbery  "
      ]
     },
     "execution_count": 102,
     "metadata": {},
     "output_type": "execute_result"
    }
   ],
   "source": [
    "crime.head()"
   ]
  },
  {
   "cell_type": "markdown",
   "metadata": {},
   "source": [
    "# Part 4 - Data Visualization"
   ]
  },
  {
   "cell_type": "markdown",
   "metadata": {},
   "source": [
    "First, let's take a look at the data that we have immediately at our hands by seeing the graph of how many of each type of crimes have been reported to and documented by the Chicago Police Department. "
   ]
  },
  {
   "cell_type": "code",
   "execution_count": 103,
   "metadata": {},
   "outputs": [
    {
     "data": {
      "text/plain": [
       "<BarContainer object of 33 artists>"
      ]
     },
     "execution_count": 103,
     "metadata": {},
     "output_type": "execute_result"
    },
    {
     "data": {
      "image/png": "[encoded data removed]",
      "text/plain": [
       "<Figure size 1440x720 with 1 Axes>"
      ]
     },
     "metadata": {
      "needs_background": "light"
     },
     "output_type": "display_data"
    }
   ],
   "source": [
    "plt.figure(figsize=(20,10))\n",
    "crimeType = plt.bar(crime.Type.value_counts().index, crime.Type.value_counts())\n",
    "plt.title('Total Number Reported per Crime Type', fontsize='20')\n",
    "plt.xticks(rotation='vertical')\n",
    "plt.tick_params(labelsize=20)\n",
    "crimeType"
   ]
  },
  {
   "cell_type": "markdown",
   "metadata": {},
   "source": [
    "From the above graph, we can see that certain crime types are reported and/or occur much more frequently than others (the top 3 being theft, battery, and narcotics). Now that we can see which crimes are reported the most, let's dive deeper and see how many total crimes are reported in each district."
   ]
  },
  {
   "cell_type": "code",
   "execution_count": 104,
   "metadata": {},
   "outputs": [
    {
     "name": "stdout",
     "output_type": "stream",
     "text": [
      "{'11.0': 435546, '7.0': 401437, '2.0': 322883, '9.0': 337799, '5.0': 301539, '6.0': 392059, '4.0': 385556, '12.0': 333235, '15.0': 296599, '14.0': 268222, '1.0': 265685, '20.0': 118627, '10.0': 291161, '22.0': 222847, '8.0': 462519, '17.0': 197248, '3.0': 345487, '18.0': 299954, '16.0': 225217, '25.0': 392484, '24.0': 202763, '19.0': 303257, '31.0': 184, '21.0': 4}\n",
      "{'11.0': 189314, '7.0': 116609, '2.0': 91068, '9.0': 98751, '5.0': 79592, '6.0': 106395, '4.0': 90690, '12.0': 82367, '15.0': 124022, '14.0': 57280, '1.0': 77579, '20.0': 29342, '10.0': 95476, '22.0': 48823, '8.0': 110684, '17.0': 43461, '3.0': 94195, '18.0': 74794, '16.0': 43743, '25.0': 111791, '24.0': 48105, '19.0': 68804, '31.0': 70, '21.0': 2}\n",
      "{'11.0': 0.4346590256827063, '7.0': 0.29047895435647436, '2.0': 0.2820464378737809, '9.0': 0.29233656701174365, '5.0': 0.2639525898805793, '6.0': 0.2713749716241688, '4.0': 0.23521874902737863, '12.0': 0.24717391630531008, '15.0': 0.41814706050930717, '14.0': 0.21355444370707846, '1.0': 0.2919961608671924, '20.0': 0.2473467254503612, '10.0': 0.3279147962810953, '22.0': 0.21908753539423909, '8.0': 0.23930692576953597, '17.0': 0.22033683484750163, '3.0': 0.27264412264426735, '18.0': 0.24935156724031018, '16.0': 0.19422601313399965, '25.0': 0.28482944527675014, '24.0': 0.23724742679877492, '19.0': 0.22688346847723218, '31.0': 0.3804347826086957, '21.0': 0.5}\n"
     ]
    }
   ],
   "source": [
    "districts = crime['District'].unique()\n",
    "district_cache = {}\n",
    "arrest_cache = {}\n",
    "ratio_cache = {}\n",
    "for district in districts:\n",
    "    district_cache[district] = len(crime[ crime['District'] == district ]) #gets total num of crimes in each district\n",
    "    arrest_cache[district] = len(crime[ (crime['Arrest'] == True) & (crime['District'] == district)]) #gets total num of arrests per district\n",
    "    ratio_cache[district] = arrest_cache[district] / district_cache[district] #gets the ratio of arrests per crime in each district \n",
    "print(district_cache)\n",
    "print(arrest_cache)\n",
    "print(ratio_cache)"
   ]
  },
  {
   "cell_type": "code",
   "execution_count": 105,
   "metadata": {},
   "outputs": [
    {
     "data": {
      "text/html": [
       "<div>\n",
       "<style scoped>\n",
       "    .dataframe tbody tr th:only-of-type {\n",
       "        vertical-align: middle;\n",
       "    }\n",
       "\n",
       "    .dataframe tbody tr th {\n",
       "        vertical-align: top;\n",
       "    }\n",
       "\n",
       "    .dataframe thead th {\n",
       "        text-align: right;\n",
       "    }\n",
       "</style>\n",
       "<table border=\"1\" class=\"dataframe\">\n",
       "  <thead>\n",
       "    <tr style=\"text-align: right;\">\n",
       "      <th></th>\n",
       "      <th>Total Crimes Reported</th>\n",
       "    </tr>\n",
       "    <tr>\n",
       "      <th>District Number</th>\n",
       "      <th></th>\n",
       "    </tr>\n",
       "  </thead>\n",
       "  <tbody>\n",
       "    <tr>\n",
       "      <th>11.0</th>\n",
       "      <td>435546</td>\n",
       "    </tr>\n",
       "    <tr>\n",
       "      <th>7.0</th>\n",
       "      <td>401437</td>\n",
       "    </tr>\n",
       "    <tr>\n",
       "      <th>2.0</th>\n",
       "      <td>322883</td>\n",
       "    </tr>\n",
       "    <tr>\n",
       "      <th>9.0</th>\n",
       "      <td>337799</td>\n",
       "    </tr>\n",
       "    <tr>\n",
       "      <th>5.0</th>\n",
       "      <td>301539</td>\n",
       "    </tr>\n",
       "  </tbody>\n",
       "</table>\n",
       "</div>"
      ],
      "text/plain": [
       "                 Total Crimes Reported\n",
       "District Number                       \n",
       "11.0                            435546\n",
       "7.0                             401437\n",
       "2.0                             322883\n",
       "9.0                             337799\n",
       "5.0                             301539"
      ]
     },
     "execution_count": 105,
     "metadata": {},
     "output_type": "execute_result"
    }
   ],
   "source": [
    "districtsTotalCrime = pd.DataFrame.from_dict(district_cache, orient='index')\n",
    "districtsTotalCrime.columns = ['Total Crimes Reported']\n",
    "districtsTotalCrime.index.name = 'District Number'\n",
    "districtsTotalCrime.head()"
   ]
  },
  {
   "cell_type": "code",
   "execution_count": 107,
   "metadata": {},
   "outputs": [
    {
     "data": {
      "text/plain": [
       "<matplotlib.axes._subplots.AxesSubplot at 0x11e10e2b0>"
      ]
     },
     "execution_count": 107,
     "metadata": {},
     "output_type": "execute_result"
    },
    {
     "data": {
      "image/png": "[encoded data removed]",
      "text/plain": [
       "<Figure size 1440x720 with 1 Axes>"
      ]
     },
     "metadata": {
      "needs_background": "light"
     },
     "output_type": "display_data"
    }
   ],
   "source": [
    "DTCchart = districtsTotalCrime.plot(kind='bar', grid=True, figsize=(20,10), legend=False, color='k')\n",
    "DTCchart.set_title('Total Crimes per District', fontsize=22)\n",
    "DTCchart.set_xlabel('District', fontsize=20)\n",
    "DTCchart.set_ylabel('Total Crimes', fontsize=20)\n",
    "DTCchart.tick_params(labelsize=18)\n",
    "DTCchart"
   ]
  },
  {
   "cell_type": "markdown",
   "metadata": {},
   "source": [
    "From the bar chart above, we can see that Districts 8 and 3 have the highest number of crime reports while districts 20 and 24 have the least. But our research question revolves around arrests so let's get a graph with the ratios of arrests per crime report in each district. Therefore, we would actually be able to see and compare the percentage of crimes that lead to an arrest because while a district might have more crimes, they might not have as many arrests as another district with less crime reports.  "
   ]
  },
  {
   "cell_type": "code",
   "execution_count": 108,
   "metadata": {},
   "outputs": [
    {
     "data": {
      "text/html": [
       "<div>\n",
       "<style scoped>\n",
       "    .dataframe tbody tr th:only-of-type {\n",
       "        vertical-align: middle;\n",
       "    }\n",
       "\n",
       "    .dataframe tbody tr th {\n",
       "        vertical-align: top;\n",
       "    }\n",
       "\n",
       "    .dataframe thead th {\n",
       "        text-align: right;\n",
       "    }\n",
       "</style>\n",
       "<table border=\"1\" class=\"dataframe\">\n",
       "  <thead>\n",
       "    <tr style=\"text-align: right;\">\n",
       "      <th></th>\n",
       "      <th>Arrest to Crime Ratio</th>\n",
       "    </tr>\n",
       "    <tr>\n",
       "      <th>District Number</th>\n",
       "      <th></th>\n",
       "    </tr>\n",
       "  </thead>\n",
       "  <tbody>\n",
       "    <tr>\n",
       "      <th>11.0</th>\n",
       "      <td>0.434659</td>\n",
       "    </tr>\n",
       "    <tr>\n",
       "      <th>7.0</th>\n",
       "      <td>0.290479</td>\n",
       "    </tr>\n",
       "    <tr>\n",
       "      <th>2.0</th>\n",
       "      <td>0.282046</td>\n",
       "    </tr>\n",
       "    <tr>\n",
       "      <th>9.0</th>\n",
       "      <td>0.292337</td>\n",
       "    </tr>\n",
       "    <tr>\n",
       "      <th>5.0</th>\n",
       "      <td>0.263953</td>\n",
       "    </tr>\n",
       "  </tbody>\n",
       "</table>\n",
       "</div>"
      ],
      "text/plain": [
       "                 Arrest to Crime Ratio\n",
       "District Number                       \n",
       "11.0                          0.434659\n",
       "7.0                           0.290479\n",
       "2.0                           0.282046\n",
       "9.0                           0.292337\n",
       "5.0                           0.263953"
      ]
     },
     "execution_count": 108,
     "metadata": {},
     "output_type": "execute_result"
    }
   ],
   "source": [
    "districtsRatio = pd.DataFrame.from_dict(ratio_cache, orient='index')\n",
    "districtsRatio.columns = ['Arrest to Crime Ratio']\n",
    "districtsRatio.index.name = 'District Number'\n",
    "districtsRatio.head()"
   ]
  },
  {
   "cell_type": "code",
   "execution_count": 109,
   "metadata": {},
   "outputs": [
    {
     "data": {
      "text/plain": [
       "<matplotlib.axes._subplots.AxesSubplot at 0x11ee40208>"
      ]
     },
     "execution_count": 109,
     "metadata": {},
     "output_type": "execute_result"
    },
    {
     "data": {
      "image/png": "[encoded data removed]",
      "text/plain": [
       "<Figure size 1440x720 with 1 Axes>"
      ]
     },
     "metadata": {
      "needs_background": "light"
     },
     "output_type": "display_data"
    }
   ],
   "source": [
    "ratioChart = districtsRatio.plot(kind='bar', grid=True, figsize=(20,10), legend=False, color=(0.2, 0.4, 0.6, 0.6))\n",
    "ratioChart.set_title('Arrest to Crime Ratio per District', fontsize=22)\n",
    "ratioChart.set_xlabel('District', fontsize=20)\n",
    "ratioChart.set_ylabel('Arrest to Crime Ratio', fontsize=20)\n",
    "ratioChart.tick_params(labelsize=18)\n",
    "ratioChart"
   ]
  },
  {
   "cell_type": "markdown",
   "metadata": {},
   "source": [
    "As we suspected, this bar graph shows that the highest crime reported districts are different from the the highest arrest ratio districts. For example, we can see that the two districts with the highest arrest to crime ratio are Districts 15 and 11 while the two districts with the highest reported crimes (shown in the previous graph) were Districts 8 and 3.\n",
    "\n",
    "With this new found info, let's finish out our Data Visualization section by focusing in on the top 3 Crime types (Theft, Battery, and Narcotics) and ploting their arrest to report ratio in each district to compare and utilize in our later Data Analysis section. \n",
    "\n",
    "To do this, we basically got the number of reports for each crime, the number of arrests made for each crime, and divided the number of arrests over the number of reports to get the final ratio. We ended up doing this for each district, which allowed us to create 3 separate bar graphs to visualize our data."
   ]
  },
  {
   "cell_type": "code",
   "execution_count": 110,
   "metadata": {},
   "outputs": [
    {
     "data": {
      "text/plain": [
       "THEFT              1431610\n",
       "BATTERY            1241943\n",
       "CRIMINAL DAMAGE     776791\n",
       "Name: Primary Type, dtype: int64"
      ]
     },
     "execution_count": 110,
     "metadata": {},
     "output_type": "execute_result"
    }
   ],
   "source": [
    "crime['Primary Type'].value_counts().nlargest(3)"
   ]
  },
  {
   "cell_type": "code",
   "execution_count": 111,
   "metadata": {},
   "outputs": [
    {
     "name": "stdout",
     "output_type": "stream",
     "text": [
      "      Reported Theft  Theft w/ Arrest Made  Theft Arrest Rate  \\\n",
      "11.0         49428.0                4815.0           0.097414   \n",
      "7.0          53662.0                4489.0           0.083653   \n",
      "2.0          63662.0                7635.0           0.119930   \n",
      "9.0          60667.0                8157.0           0.134455   \n",
      "5.0          41843.0                3813.0           0.091126   \n",
      "6.0          68956.0               11746.0           0.170341   \n",
      "4.0          62682.0                5837.0           0.093121   \n",
      "12.0         94488.0                8693.0           0.092001   \n",
      "15.0         32080.0                2871.0           0.089495   \n",
      "14.0         75868.0                5926.0           0.078109   \n",
      "1.0         117639.0               20492.0           0.174194   \n",
      "20.0         30158.0                4014.0           0.133099   \n",
      "10.0         43303.0                4041.0           0.093319   \n",
      "22.0         43541.0                3920.0           0.090030   \n",
      "8.0          90918.0               12659.0           0.139235   \n",
      "17.0         48773.0                6563.0           0.134562   \n",
      "3.0          50839.0                5564.0           0.109444   \n",
      "18.0        127373.0               16434.0           0.129023   \n",
      "16.0         53865.0                4100.0           0.076116   \n",
      "25.0         73121.0               13191.0           0.180400   \n",
      "24.0         47136.0                5295.0           0.112335   \n",
      "19.0        101571.0               10577.0           0.104134   \n",
      "31.0            36.0                   0.0           0.000000   \n",
      "21.0             1.0                   0.0           0.000000   \n",
      "\n",
      "      Reported Battery  Battery w/ Arrest Made  Battery Arrest Rate  \\\n",
      "11.0           86640.0                 15599.0             0.180044   \n",
      "7.0            98871.0                 18034.0             0.182399   \n",
      "2.0            65318.0                 14094.0             0.215775   \n",
      "9.0            63572.0                 14986.0             0.235733   \n",
      "5.0            69128.0                 14803.0             0.214139   \n",
      "6.0            79824.0                 17455.0             0.218669   \n",
      "4.0            79849.0                 16098.0             0.201606   \n",
      "12.0           52123.0                 13078.0             0.250907   \n",
      "15.0           62969.0                 12963.0             0.205863   \n",
      "14.0           40357.0                 10653.0             0.263969   \n",
      "1.0            26463.0                  7754.0             0.293013   \n",
      "20.0           19923.0                  5456.0             0.273854   \n",
      "10.0           63150.0                 13832.0             0.219034   \n",
      "22.0           39616.0                  7499.0             0.189292   \n",
      "8.0            76576.0                 18087.0             0.236197   \n",
      "17.0           30895.0                  8983.0             0.290759   \n",
      "3.0            76237.0                 17014.0             0.223172   \n",
      "18.0           36449.0                 10753.0             0.295015   \n",
      "16.0           31708.0                  8357.0             0.263561   \n",
      "25.0           69239.0                 17440.0             0.251881   \n",
      "24.0           34691.0                  8377.0             0.241475   \n",
      "19.0           38325.0                 11491.0             0.299830   \n",
      "31.0              18.0                     3.0             0.166667   \n",
      "21.0               2.0                     1.0             0.500000   \n",
      "\n",
      "      Reported Narcotics  Narcotics w/ Arrest Made  Narcotics Arrest Rate  \n",
      "11.0            120957.0                  120693.0               0.997817  \n",
      "7.0              49642.0                   49562.0               0.998388  \n",
      "2.0              34063.0                   33712.0               0.989696  \n",
      "9.0              33953.0                   33856.0               0.997143  \n",
      "5.0              31330.0                   30173.0               0.963071  \n",
      "6.0              38250.0                   38109.0               0.996314  \n",
      "4.0              33692.0                   33609.0               0.997537  \n",
      "12.0             24605.0                   24431.0               0.992928  \n",
      "15.0             78220.0                   78110.0               0.998594  \n",
      "14.0             15117.0                   15091.0               0.998280  \n",
      "1.0              12850.0                   12668.0               0.985837  \n",
      "20.0              8107.0                    8047.0               0.992599  \n",
      "10.0             43638.0                   43306.0               0.992392  \n",
      "22.0             18640.0                   18560.0               0.995708  \n",
      "8.0              34287.0                   34028.0               0.992446  \n",
      "17.0             10135.0                   10067.0               0.993291  \n",
      "3.0              33803.0                   33337.0               0.986214  \n",
      "18.0             13123.0                   13056.0               0.994894  \n",
      "16.0             10876.0                   10824.0               0.995219  \n",
      "25.0             37608.0                   37554.0               0.998564  \n",
      "24.0             15351.0                   15286.0               0.995766  \n",
      "19.0             15579.0                   15509.0               0.995507  \n",
      "31.0                43.0                      42.0               0.976744  \n",
      "21.0                 1.0                       1.0               1.000000  \n"
     ]
    }
   ],
   "source": [
    "dist_pred_arrest = pd.DataFrame()\n",
    "for district in districts:\n",
    "    arrest_occurred = crime[crime['Arrest'] == True]   \n",
    "    \n",
    "    dist_pred_arrest.loc[district, 'Reported Theft'] = len(crime[(crime['Primary Type'] == 'THEFT') & (crime['District'] == district)]) \n",
    "    dist_pred_arrest.loc[district,'Theft w/ Arrest Made'] = len(arrest_occurred[(arrest_occurred['Primary Type'] == 'THEFT') & (arrest_occurred['District'] == district)])\n",
    "    dist_pred_arrest.loc[district,'Theft Arrest Rate'] = dist_pred_arrest.loc[district,'Theft w/ Arrest Made'] / dist_pred_arrest.loc[district,'Reported Theft']\n",
    "    \n",
    "    dist_pred_arrest.loc[district, 'Reported Battery'] = len(crime[(crime['Primary Type'] == 'BATTERY') & (crime['District'] == district)]) \n",
    "    dist_pred_arrest.loc[district,'Battery w/ Arrest Made'] = len(arrest_occurred[(arrest_occurred['Primary Type'] == 'BATTERY') & (arrest_occurred['District'] == district)])\n",
    "    dist_pred_arrest.loc[district,'Battery Arrest Rate'] = dist_pred_arrest.loc[district,'Battery w/ Arrest Made'] / dist_pred_arrest.loc[district,'Reported Battery']\n",
    "    \n",
    "    dist_pred_arrest.loc[district, 'Reported Narcotics'] = len(crime[(crime['Primary Type'] == 'NARCOTICS') & (crime['District'] == district)]) \n",
    "    dist_pred_arrest.loc[district,'Narcotics w/ Arrest Made'] = len(arrest_occurred[(arrest_occurred['Primary Type'] == 'NARCOTICS') & (arrest_occurred['District'] == district)])\n",
    "    dist_pred_arrest.loc[district,'Narcotics Arrest Rate'] = dist_pred_arrest.loc[district,'Narcotics w/ Arrest Made'] / dist_pred_arrest.loc[district,'Reported Narcotics']\n",
    "print(dist_pred_arrest)"
   ]
  },
  {
   "cell_type": "code",
   "execution_count": 112,
   "metadata": {},
   "outputs": [
    {
     "data": {
      "text/plain": [
       "<matplotlib.axes._subplots.AxesSubplot at 0x1a9ca8e48>"
      ]
     },
     "execution_count": 112,
     "metadata": {},
     "output_type": "execute_result"
    },
    {
     "data": {
      "image/png": "[encoded data removed]",
      "text/plain": [
       "<Figure size 1440x720 with 1 Axes>"
      ]
     },
     "metadata": {
      "needs_background": "light"
     },
     "output_type": "display_data"
    }
   ],
   "source": [
    "thefts = dist_pred_arrest['Theft Arrest Rate'] \n",
    "theftRate = thefts.plot(kind='bar', grid=True, figsize=(20,10), legend=False, color='tab:blue') \n",
    "theftRate.set_title('Theft Arrest Rate per District', fontsize=22)\n",
    "theftRate.set_xlabel('District', fontsize=20)\n",
    "theftRate.set_ylabel('Theft Arrest Rate', fontsize=20)\n",
    "theftRate.tick_params(labelsize=18)\n",
    "theftRate"
   ]
  },
  {
   "cell_type": "code",
   "execution_count": 113,
   "metadata": {},
   "outputs": [
    {
     "data": {
      "text/plain": [
       "<matplotlib.axes._subplots.AxesSubplot at 0x11efae668>"
      ]
     },
     "execution_count": 113,
     "metadata": {},
     "output_type": "execute_result"
    },
    {
     "data": {
      "image/png": "[encoded data removed]",
      "text/plain": [
       "<Figure size 1440x720 with 1 Axes>"
      ]
     },
     "metadata": {
      "needs_background": "light"
     },
     "output_type": "display_data"
    }
   ],
   "source": [
    "battery = dist_pred_arrest['Battery Arrest Rate'] \n",
    "batteryRate = battery.plot(kind='bar', grid=True, figsize=(20,10), legend=False, color='tab:orange') \n",
    "batteryRate.set_title('Battery Arrest Rate per District', fontsize=22)\n",
    "batteryRate.set_xlabel('District', fontsize=20)\n",
    "batteryRate.set_ylabel('Battery Arrest Rate', fontsize=20)\n",
    "batteryRate.tick_params(labelsize=18)\n",
    "batteryRate"
   ]
  },
  {
   "cell_type": "code",
   "execution_count": 114,
   "metadata": {},
   "outputs": [
    {
     "data": {
      "text/plain": [
       "<matplotlib.axes._subplots.AxesSubplot at 0x11f178ef0>"
      ]
     },
     "execution_count": 114,
     "metadata": {},
     "output_type": "execute_result"
    },
    {
     "data": {
      "image/png": "[encoded data removed]",
      "text/plain": [
       "<Figure size 1440x720 with 1 Axes>"
      ]
     },
     "metadata": {
      "needs_background": "light"
     },
     "output_type": "display_data"
    }
   ],
   "source": [
    "narcotics = dist_pred_arrest['Narcotics Arrest Rate'] \n",
    "narcoticsRate = narcotics.plot(kind='bar', grid=True, figsize=(20,10), legend=False, color='tab:green') \n",
    "narcoticsRate.set_title('Narcotics Arrest Rate per District', fontsize=22)\n",
    "narcoticsRate.set_xlabel('District', fontsize=20)\n",
    "narcoticsRate.set_ylabel('Narcotics Arrest Rate', fontsize=20)\n",
    "narcoticsRate.tick_params(labelsize=18)\n",
    "narcoticsRate"
   ]
  },
  {
   "cell_type": "markdown",
   "metadata": {},
   "source": [
    "From these three graphs, we can see how Theft anad Battery arrest ratios vary from district to district, while Narcotics arrest ratios seem to be fairly similar (and quite high) across the districts. Let's now jump into using this data to build a model and come up with an analysis that answers our research question."
   ]
  },
  {
   "cell_type": "markdown",
   "metadata": {},
   "source": [
    "# Part 5 - Data Analysis and Results"
   ]
  },
  {
   "cell_type": "markdown",
   "metadata": {},
   "source": [
    "Our research questions is whether an arrest was made from a reported crime is better predicted by the type of crime commmited or the district the crime is committed.\n",
    "\n",
    "Because the dependent variable, Arrest is a true or false value, we first converted it to a 1 or a 0, with 1 for true and 0 for false.\n",
    "\n",
    "Because Arrest is binary, we chose a Binomial regression as our data model. Binomial regression/Logistic regression is useful when a dependent variable is binary because it doesn't attempt to fit a line to the data, it produces a curve that represents the chance that an input would results in a true or a false value."
   ]
  },
  {
   "cell_type": "code",
   "execution_count": null,
   "metadata": {},
   "outputs": [],
   "source": [
    "binomial_model = smf.glm(formula='Arrest ~ Type + District', data=crime,family=sm.families.Binomial())\n",
    "binomial_results = binomial_model.fit()\n",
    "binomial_results.summary()"
   ]
  },
  {
   "cell_type": "markdown",
   "metadata": {},
   "source": [
    "## Preliminary Analysis\n",
    "\n",
    "The intercept of the model is an arson committed in district 1. We found this by noticing that district 1 is the only district not included in the summary, and arson is the only crime type not included in the summary. \n",
    "\n",
    "A higher coefficient in the table above indicates that the associated variable (district or type) is more likely to result in an arrest. A lower coefficient indicates the opposite.\n",
    "\n",
    "Additionally, we use the common alpha level of 0.05 to determine whether a variable is significant. Any variable with p-value greater than 0.05 is considered significant, and any variable with a p-value less than 0.05 is considered significant.\n",
    "\n",
    "Looking at the above table, we can see that in general, the crime type is more significant than the district. The range of district coefficients is (x,y), while the range of the crime type is much higher, (x,y)\n",
    "\n",
    "Also make notes about how districts considered to be 'bad' e.g. the southside, tend to have a greater coefficients, indicating that you are more likely to get arrested in those districts, but only slightly.\n",
    "\n",
    "Also talk about how lots of people think police target specific districts. while our analysis show that this might be true, the coefficients are so small that we wouldn't consider it a major issue."
   ]
  },
  {
   "cell_type": "markdown",
   "metadata": {},
   "source": [
    "## Looking at the top three crimes\n",
    "\n",
    "We want to look at the top three crimes overall, because this might give us a more generalized picture of what overall crime looks like in Chicago"
   ]
  },
  {
   "cell_type": "code",
   "execution_count": 88,
   "metadata": {},
   "outputs": [
    {
     "data": {
      "text/plain": [
       "battery      418\n",
       "theft        383\n",
       "narcotics    266\n",
       "Name: Type, dtype: int64"
      ]
     },
     "execution_count": 88,
     "metadata": {},
     "output_type": "execute_result"
    }
   ],
   "source": [
    "crime['Type'].value_counts().nlargest(3)"
   ]
  },
  {
   "cell_type": "code",
   "execution_count": 89,
   "metadata": {},
   "outputs": [],
   "source": [
    "top_crime = crime[(crime['Type'] == 'theft') | (crime['Type'] == 'battery') | (crime['Type'] == 'narcotics')]"
   ]
  },
  {
   "cell_type": "code",
   "execution_count": 90,
   "metadata": {},
   "outputs": [
    {
     "data": {
      "text/html": [
       "<table class=\"simpletable\">\n",
       "<caption>Generalized Linear Model Regression Results</caption>\n",
       "<tr>\n",
       "  <th>Dep. Variable:</th>       <td>Arrest</td>      <th>  No. Observations:  </th>  <td>  1067</td>  \n",
       "</tr>\n",
       "<tr>\n",
       "  <th>Model:</th>                 <td>GLM</td>       <th>  Df Residuals:      </th>  <td>  1043</td>  \n",
       "</tr>\n",
       "<tr>\n",
       "  <th>Model Family:</th>       <td>Binomial</td>     <th>  Df Model:          </th>  <td>    23</td>  \n",
       "</tr>\n",
       "<tr>\n",
       "  <th>Link Function:</th>        <td>logit</td>      <th>  Scale:             </th> <td>  1.0000</td> \n",
       "</tr>\n",
       "<tr>\n",
       "  <th>Method:</th>               <td>IRLS</td>       <th>  Log-Likelihood:    </th> <td> -377.24</td> \n",
       "</tr>\n",
       "<tr>\n",
       "  <th>Date:</th>           <td>Mon, 18 Mar 2019</td> <th>  Deviance:          </th> <td>  754.47</td> \n",
       "</tr>\n",
       "<tr>\n",
       "  <th>Time:</th>               <td>14:46:55</td>     <th>  Pearson chi2:      </th>  <td>  803.</td>  \n",
       "</tr>\n",
       "<tr>\n",
       "  <th>No. Iterations:</th>        <td>24</td>        <th>  Covariance Type:   </th> <td>nonrobust</td>\n",
       "</tr>\n",
       "</table>\n",
       "<table class=\"simpletable\">\n",
       "<tr>\n",
       "          <td></td>             <th>coef</th>     <th>std err</th>      <th>z</th>      <th>P>|z|</th>  <th>[0.025</th>    <th>0.975]</th>  \n",
       "</tr>\n",
       "<tr>\n",
       "  <th>Intercept</th>         <td>   -0.2485</td> <td>    0.429</td> <td>   -0.579</td> <td> 0.563</td> <td>   -1.089</td> <td>    0.592</td>\n",
       "</tr>\n",
       "<tr>\n",
       "  <th>Type[T.narcotics]</th> <td>   26.8171</td> <td> 1.29e+04</td> <td>    0.002</td> <td> 0.998</td> <td>-2.53e+04</td> <td> 2.53e+04</td>\n",
       "</tr>\n",
       "<tr>\n",
       "  <th>Type[T.theft]</th>     <td>   -0.9436</td> <td>    0.206</td> <td>   -4.592</td> <td> 0.000</td> <td>   -1.346</td> <td>   -0.541</td>\n",
       "</tr>\n",
       "<tr>\n",
       "  <th>District[T.10]</th>    <td>   -1.3465</td> <td>    0.637</td> <td>   -2.114</td> <td> 0.035</td> <td>   -2.595</td> <td>   -0.098</td>\n",
       "</tr>\n",
       "<tr>\n",
       "  <th>District[T.11]</th>    <td>   -1.9660</td> <td>    0.668</td> <td>   -2.941</td> <td> 0.003</td> <td>   -3.276</td> <td>   -0.656</td>\n",
       "</tr>\n",
       "<tr>\n",
       "  <th>District[T.12]</th>    <td>   -1.2255</td> <td>    0.675</td> <td>   -1.815</td> <td> 0.070</td> <td>   -2.549</td> <td>    0.098</td>\n",
       "</tr>\n",
       "<tr>\n",
       "  <th>District[T.14]</th>    <td>   -1.0637</td> <td>    0.601</td> <td>   -1.769</td> <td> 0.077</td> <td>   -2.242</td> <td>    0.115</td>\n",
       "</tr>\n",
       "<tr>\n",
       "  <th>District[T.15]</th>    <td>   -0.6251</td> <td>    0.636</td> <td>   -0.982</td> <td> 0.326</td> <td>   -1.872</td> <td>    0.622</td>\n",
       "</tr>\n",
       "<tr>\n",
       "  <th>District[T.16]</th>    <td>   -0.7325</td> <td>    0.665</td> <td>   -1.102</td> <td> 0.271</td> <td>   -2.036</td> <td>    0.571</td>\n",
       "</tr>\n",
       "<tr>\n",
       "  <th>District[T.17]</th>    <td>   -0.6759</td> <td>    0.619</td> <td>   -1.092</td> <td> 0.275</td> <td>   -1.889</td> <td>    0.538</td>\n",
       "</tr>\n",
       "<tr>\n",
       "  <th>District[T.18]</th>    <td>    0.3294</td> <td>    0.495</td> <td>    0.665</td> <td> 0.506</td> <td>   -0.641</td> <td>    1.300</td>\n",
       "</tr>\n",
       "<tr>\n",
       "  <th>District[T.19]</th>    <td>   -0.7990</td> <td>    0.683</td> <td>   -1.170</td> <td> 0.242</td> <td>   -2.137</td> <td>    0.539</td>\n",
       "</tr>\n",
       "<tr>\n",
       "  <th>District[T.2]</th>     <td>   -0.5838</td> <td>    0.565</td> <td>   -1.034</td> <td> 0.301</td> <td>   -1.691</td> <td>    0.523</td>\n",
       "</tr>\n",
       "<tr>\n",
       "  <th>District[T.20]</th>    <td>   -1.6685</td> <td>    1.122</td> <td>   -1.487</td> <td> 0.137</td> <td>   -3.867</td> <td>    0.530</td>\n",
       "</tr>\n",
       "<tr>\n",
       "  <th>District[T.22]</th>    <td>   -1.2011</td> <td>    0.677</td> <td>   -1.775</td> <td> 0.076</td> <td>   -2.528</td> <td>    0.125</td>\n",
       "</tr>\n",
       "<tr>\n",
       "  <th>District[T.24]</th>    <td>   -0.6796</td> <td>    0.651</td> <td>   -1.044</td> <td> 0.297</td> <td>   -1.956</td> <td>    0.597</td>\n",
       "</tr>\n",
       "<tr>\n",
       "  <th>District[T.25]</th>    <td>   -0.3299</td> <td>    0.511</td> <td>   -0.645</td> <td> 0.519</td> <td>   -1.332</td> <td>    0.672</td>\n",
       "</tr>\n",
       "<tr>\n",
       "  <th>District[T.3]</th>     <td>   -0.3420</td> <td>    0.530</td> <td>   -0.645</td> <td> 0.519</td> <td>   -1.381</td> <td>    0.697</td>\n",
       "</tr>\n",
       "<tr>\n",
       "  <th>District[T.4]</th>     <td>   -1.0197</td> <td>    0.553</td> <td>   -1.844</td> <td> 0.065</td> <td>   -2.104</td> <td>    0.064</td>\n",
       "</tr>\n",
       "<tr>\n",
       "  <th>District[T.5]</th>     <td>   -0.9369</td> <td>    0.569</td> <td>   -1.646</td> <td> 0.100</td> <td>   -2.052</td> <td>    0.179</td>\n",
       "</tr>\n",
       "<tr>\n",
       "  <th>District[T.6]</th>     <td>   -0.2488</td> <td>    0.549</td> <td>   -0.453</td> <td> 0.651</td> <td>   -1.326</td> <td>    0.828</td>\n",
       "</tr>\n",
       "<tr>\n",
       "  <th>District[T.7]</th>     <td>   -1.6888</td> <td>    0.626</td> <td>   -2.698</td> <td> 0.007</td> <td>   -2.915</td> <td>   -0.462</td>\n",
       "</tr>\n",
       "<tr>\n",
       "  <th>District[T.8]</th>     <td>   -0.6599</td> <td>    0.541</td> <td>   -1.220</td> <td> 0.222</td> <td>   -1.720</td> <td>    0.400</td>\n",
       "</tr>\n",
       "<tr>\n",
       "  <th>District[T.9]</th>     <td>   -0.5029</td> <td>    0.606</td> <td>   -0.830</td> <td> 0.406</td> <td>   -1.690</td> <td>    0.684</td>\n",
       "</tr>\n",
       "</table>"
      ],
      "text/plain": [
       "<class 'statsmodels.iolib.summary.Summary'>\n",
       "\"\"\"\n",
       "                 Generalized Linear Model Regression Results                  \n",
       "==============================================================================\n",
       "Dep. Variable:                 Arrest   No. Observations:                 1067\n",
       "Model:                            GLM   Df Residuals:                     1043\n",
       "Model Family:                Binomial   Df Model:                           23\n",
       "Link Function:                  logit   Scale:                          1.0000\n",
       "Method:                          IRLS   Log-Likelihood:                -377.24\n",
       "Date:                Mon, 18 Mar 2019   Deviance:                       754.47\n",
       "Time:                        14:46:55   Pearson chi2:                     803.\n",
       "No. Iterations:                    24   Covariance Type:             nonrobust\n",
       "=====================================================================================\n",
       "                        coef    std err          z      P>|z|      [0.025      0.975]\n",
       "-------------------------------------------------------------------------------------\n",
       "Intercept            -0.2485      0.429     -0.579      0.563      -1.089       0.592\n",
       "Type[T.narcotics]    26.8171   1.29e+04      0.002      0.998   -2.53e+04    2.53e+04\n",
       "Type[T.theft]        -0.9436      0.206     -4.592      0.000      -1.346      -0.541\n",
       "District[T.10]       -1.3465      0.637     -2.114      0.035      -2.595      -0.098\n",
       "District[T.11]       -1.9660      0.668     -2.941      0.003      -3.276      -0.656\n",
       "District[T.12]       -1.2255      0.675     -1.815      0.070      -2.549       0.098\n",
       "District[T.14]       -1.0637      0.601     -1.769      0.077      -2.242       0.115\n",
       "District[T.15]       -0.6251      0.636     -0.982      0.326      -1.872       0.622\n",
       "District[T.16]       -0.7325      0.665     -1.102      0.271      -2.036       0.571\n",
       "District[T.17]       -0.6759      0.619     -1.092      0.275      -1.889       0.538\n",
       "District[T.18]        0.3294      0.495      0.665      0.506      -0.641       1.300\n",
       "District[T.19]       -0.7990      0.683     -1.170      0.242      -2.137       0.539\n",
       "District[T.2]        -0.5838      0.565     -1.034      0.301      -1.691       0.523\n",
       "District[T.20]       -1.6685      1.122     -1.487      0.137      -3.867       0.530\n",
       "District[T.22]       -1.2011      0.677     -1.775      0.076      -2.528       0.125\n",
       "District[T.24]       -0.6796      0.651     -1.044      0.297      -1.956       0.597\n",
       "District[T.25]       -0.3299      0.511     -0.645      0.519      -1.332       0.672\n",
       "District[T.3]        -0.3420      0.530     -0.645      0.519      -1.381       0.697\n",
       "District[T.4]        -1.0197      0.553     -1.844      0.065      -2.104       0.064\n",
       "District[T.5]        -0.9369      0.569     -1.646      0.100      -2.052       0.179\n",
       "District[T.6]        -0.2488      0.549     -0.453      0.651      -1.326       0.828\n",
       "District[T.7]        -1.6888      0.626     -2.698      0.007      -2.915      -0.462\n",
       "District[T.8]        -0.6599      0.541     -1.220      0.222      -1.720       0.400\n",
       "District[T.9]        -0.5029      0.606     -0.830      0.406      -1.690       0.684\n",
       "=====================================================================================\n",
       "\"\"\""
      ]
     },
     "execution_count": 90,
     "metadata": {},
     "output_type": "execute_result"
    }
   ],
   "source": [
    "binomial_model = smf.glm(formula='Arrest ~ Type + District', data=top_crime,family=sm.families.Binomial())\n",
    "binomial_results = binomial_model.fit()\n",
    "binomial_results.summary()"
   ]
  },
  {
   "cell_type": "markdown",
   "metadata": {},
   "source": [
    "## Analysis Conclusions\n",
    "\n",
    "Overall, because the average crime type coefficient was larger than the average district coefficient, the type of crime tends to "
   ]
  },
  {
   "cell_type": "markdown",
   "metadata": {},
   "source": [
    "# Part 6 - Privacy/Ethics Considerations"
   ]
  },
  {
   "cell_type": "markdown",
   "metadata": {},
   "source": [
    "##### Privacy\n",
    "For the purpose of our analysis, we do have permission to use this dataset becauset the police department released as public record. The data is also fairly private because there is no individual person identifying information. There are no names, only crime ids and description. The only identifying information is the location (partial addresses and longitude/latitude). This could be an issue because some of the crimes occurred in apartments, so you could conceivably find out the location where a crime was committed and use this to find someone. However, for our project purposes, we decided to use district # instead so we simply dropped those other location identifying sections from our data to further perserve the privacy of those involved when we release our findings.\n",
    "\n",
    "##### Ethics\n",
    "A potential ethics considerations involving this data is that we are publicizing the locations of high crime, which could be used to discriminate against communities. While this data is publicily available, we are organizing and formatting it in a way that can be used to show which districts have a high crime rate. People with ill intentions could use this to argue that no one should go near these areas, alientating those communities. "
   ]
  },
  {
   "cell_type": "markdown",
   "metadata": {},
   "source": [
    "# Part 7 - Conclusions and Discussion"
   ]
  },
  {
   "cell_type": "markdown",
   "metadata": {},
   "source": [
    "##### Potential Biases\n",
    "We realize that there are some potential biases in our dataset, because while this data was collected by the police department, there are a lot of crimes that happen where those involved do not go to or report to the police. Unfortunately these instances/crimes would be omitted from the data, which could skew the data to lean towards one or more areas unfairly.\n",
    "\n",
    "##### Potential Incorrect Data\n",
    "It's important to note that our data represents reported crimes. We operated with the assumption that no crimes are reported falsely. This was a reasonable assumption on our part because we assumed that the number of real crimes reported is much higher than the number of crimes reported falsely. This does introduce a possible counfounding variable into our dataset, but it was not feasible to account for this in a reasonable amount of time."
   ]
  }
 ],
 "metadata": {
  "kernelspec": {
   "display_name": "Python 3",
   "language": "python",
   "name": "python3"
  },
  "language_info": {
   "codemirror_mode": {
    "name": "ipython",
    "version": 3
   },
   "file_extension": ".py",
   "mimetype": "text/x-python",
   "name": "python",
   "nbconvert_exporter": "python",
   "pygments_lexer": "ipython3",
   "version": "3.7.2"
  }
 },
 "nbformat": 4,
 "nbformat_minor": 2
}
